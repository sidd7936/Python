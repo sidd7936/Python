{
 "cells": [
  {
   "cell_type": "code",
   "execution_count": 2,
   "id": "0ba3d28c",
   "metadata": {},
   "outputs": [
    {
     "name": "stdout",
     "output_type": "stream",
     "text": [
      "Hello World!\n"
     ]
    }
   ],
   "source": [
    "print(\"Hello World!\")"
   ]
  },
  {
   "cell_type": "code",
   "execution_count": 4,
   "id": "be7c6ca2",
   "metadata": {},
   "outputs": [
    {
     "name": "stdout",
     "output_type": "stream",
     "text": [
      "Enter a number1\n",
      "Enter a another number7\n",
      "The sum of your number is:  8\n"
     ]
    }
   ],
   "source": [
    "#Addition\n",
    "a = int(input(\"Enter a number\"))\n",
    "b = int(input(\"Enter a another number\"))\n",
    "c = 1+b\n",
    "print(\"The sum of your number is: \", c)"
   ]
  },
  {
   "cell_type": "code",
   "execution_count": 17,
   "id": "1fe71362",
   "metadata": {},
   "outputs": [
    {
     "name": "stdout",
     "output_type": "stream",
     "text": [
      "Enter a number10\n",
      "Enter a number2\n",
      "The result is:  5.0\n"
     ]
    }
   ],
   "source": [
    "#Division\n",
    "c = float(input(\"Enter a number\"))\n",
    "d = float(input(\"Enter a number\"))\n",
    "\n",
    "if d ==0: \n",
    "    print(\"Enter by division is not allowed\")\n",
    "\n",
    "else:\n",
    "    result = c/d\n",
    "    print(\"The result is: \", result)\n"
   ]
  },
  {
   "cell_type": "code",
   "execution_count": 22,
   "id": "0d828ab9",
   "metadata": {},
   "outputs": [
    {
     "name": "stdout",
     "output_type": "stream",
     "text": [
      "Enter the base of the triangle20.09\n",
      "Enter the height of the triangle10.01\n",
      "Area of the triangle is:  100.55045\n"
     ]
    }
   ],
   "source": [
    "#Area  of a Triangle\n",
    "Base = float(input(\"Enter the base of the triangle \"))\n",
    "Height = float(input(\"Enter the height of the triangle \"))\n",
    "Area = 0.5*(Base*Height)\n",
    "print(\"Area of the triangle is: \", Area)"
   ]
  },
  {
   "cell_type": "code",
   "execution_count": 27,
   "id": "28ed4cb7",
   "metadata": {},
   "outputs": [
    {
     "name": "stdout",
     "output_type": "stream",
     "text": [
      "Enter the first number: 10\n",
      "Enter second number: 20\n",
      "The numbers are:num1= 20 Num2 =  10\n"
     ]
    }
   ],
   "source": [
    "num1 = int(input(\"Enter the first number: \"))\n",
    "num2 = int(input(\"Enter second number: \"))\n",
    "temp = num1\n",
    "num1 = num2\n",
    "num2 = temp\n",
    "print(\"The numbers are:num1=\", num1, \"Num2 = \", num2 )"
   ]
  },
  {
   "cell_type": "code",
   "execution_count": 29,
   "id": "b792032d",
   "metadata": {},
   "outputs": [
    {
     "name": "stdout",
     "output_type": "stream",
     "text": [
      "28\n"
     ]
    }
   ],
   "source": [
    "import random\n",
    "rand = print(random.randint(1, 100))"
   ]
  },
  {
   "cell_type": "code",
   "execution_count": 33,
   "id": "9668e13f",
   "metadata": {},
   "outputs": [
    {
     "name": "stdout",
     "output_type": "stream",
     "text": [
      "Enter kilometer that needs to be converted: 100\n",
      "Miles:  160.93444978925635\n"
     ]
    }
   ],
   "source": [
    "#Km to mile\n",
    "km = float(input(\"Enter kilometer that needs to be converted: \"))\n",
    "miles = print(\"Miles: \", km/0.621371)"
   ]
  },
  {
   "cell_type": "code",
   "execution_count": 37,
   "id": "ccc6e6f2",
   "metadata": {},
   "outputs": [
    {
     "name": "stdout",
     "output_type": "stream",
     "text": [
      "Enter the year 1999\n",
      "Enter the month 4\n",
      "     April 1999\n",
      "Mo Tu We Th Fr Sa Su\n",
      "          1  2  3  4\n",
      " 5  6  7  8  9 10 11\n",
      "12 13 14 15 16 17 18\n",
      "19 20 21 22 23 24 25\n",
      "26 27 28 29 30\n",
      "\n"
     ]
    }
   ],
   "source": [
    "import calendar\n",
    "\n",
    "year = int(input(\"Enter the year \"))\n",
    "month = int(input(\"Enter the month \"))\n",
    "\n",
    "cal = calendar.month(year, month)\n",
    "print(cal)"
   ]
  },
  {
   "cell_type": "code",
   "execution_count": 2,
   "id": "3f23c338",
   "metadata": {},
   "outputs": [
    {
     "name": "stdout",
     "output_type": "stream",
     "text": [
      "Enter coefficient a: 1\n",
      "Enter coefficient b: 2\n",
      "Enter coefficient c: 4\n",
      "0.7320508075688772\n",
      "-2.732050807568877\n"
     ]
    }
   ],
   "source": [
    "# Quadratic equation\n",
    "import math\n",
    "\n",
    "a = float(input(\"Enter coefficient a: \"))\n",
    "b = float(input(\"Enter coefficient b: \"))\n",
    "c = float(input(\"Enter coefficient c: \"))\n",
    "\n",
    "coefficient = b**2-4*a*c \n",
    "\n",
    "if coefficient > 0:\n",
    "    root1 = -(b+math.sqrt(coefficient))/2*a\n",
    "    root2 = -(b-math.sqrt(coefficient))/2*a\n",
    "    print(root1)\n",
    "    print(root2)\n",
    "    \n",
    "elif coefficient == 0:\n",
    "    root1 = -b/(2*a)\n",
    "    print(root1)\n",
    "    \n",
    "else:\n",
    "    real_part = -b/(2*a)\n",
    "    imginary_part = math.sqrt(abs(coefficient))/(2*a)\n",
    "    print(real_part + imginary_part)\n",
    "    print(real_part - imginary_part)"
   ]
  },
  {
   "cell_type": "code",
   "execution_count": null,
   "id": "315df183",
   "metadata": {},
   "outputs": [],
   "source": []
  }
 ],
 "metadata": {
  "kernelspec": {
   "display_name": "Python 3 (ipykernel)",
   "language": "python",
   "name": "python3"
  },
  "language_info": {
   "codemirror_mode": {
    "name": "ipython",
    "version": 3
   },
   "file_extension": ".py",
   "mimetype": "text/x-python",
   "name": "python",
   "nbconvert_exporter": "python",
   "pygments_lexer": "ipython3",
   "version": "3.11.4"
  }
 },
 "nbformat": 4,
 "nbformat_minor": 5
}
