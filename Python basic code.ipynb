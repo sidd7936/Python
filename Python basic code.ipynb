{
 "cells": [
  {
   "cell_type": "code",
   "execution_count": 2,
   "id": "df7a58a9",
   "metadata": {},
   "outputs": [
    {
     "name": "stdout",
     "output_type": "stream",
     "text": [
      "Hello World!\n"
     ]
    }
   ],
   "source": [
    "print(\"Hello World!\")"
   ]
  },
  {
   "cell_type": "code",
   "execution_count": 4,
   "id": "442aa250",
   "metadata": {},
   "outputs": [
    {
     "name": "stdout",
     "output_type": "stream",
     "text": [
      "Enter a number1\n",
      "Enter a another number7\n",
      "The sum of your number is:  8\n"
     ]
    }
   ],
   "source": [
    "#Addition\n",
    "a = int(input(\"Enter a number\"))\n",
    "b = int(input(\"Enter a another number\"))\n",
    "c = 1+b\n",
    "print(\"The sum of your number is: \", c)"
   ]
  },
  {
   "cell_type": "code",
   "execution_count": 17,
   "id": "39119df1",
   "metadata": {},
   "outputs": [
    {
     "name": "stdout",
     "output_type": "stream",
     "text": [
      "Enter a number10\n",
      "Enter a number2\n",
      "The result is:  5.0\n"
     ]
    }
   ],
   "source": [
    "#Division\n",
    "c = float(input(\"Enter a number\"))\n",
    "d = float(input(\"Enter a number\"))\n",
    "\n",
    "if d ==0: \n",
    "    print(\"Enter by division is not allowed\")\n",
    "\n",
    "else:\n",
    "    result = c/d\n",
    "    print(\"The result is: \", result)\n"
   ]
  },
  {
   "cell_type": "code",
   "execution_count": 22,
   "id": "9d35979b",
   "metadata": {},
   "outputs": [
    {
     "name": "stdout",
     "output_type": "stream",
     "text": [
      "Enter the base of the triangle20.09\n",
      "Enter the height of the triangle10.01\n",
      "Area of the triangle is:  100.55045\n"
     ]
    }
   ],
   "source": [
    "#Area  of a Triangle\n",
    "Base = float(input(\"Enter the base of the triangle \"))\n",
    "Height = float(input(\"Enter the height of the triangle \"))\n",
    "Area = 0.5*(Base*Height)\n",
    "print(\"Area of the triangle is: \", Area)"
   ]
  },
  {
   "cell_type": "code",
   "execution_count": 27,
   "id": "6f860e0a",
   "metadata": {},
   "outputs": [
    {
     "name": "stdout",
     "output_type": "stream",
     "text": [
      "Enter the first number: 10\n",
      "Enter second number: 20\n",
      "The numbers are:num1= 20 Num2 =  10\n"
     ]
    }
   ],
   "source": [
    "num1 = int(input(\"Enter the first number: \"))\n",
    "num2 = int(input(\"Enter second number: \"))\n",
    "temp = num1\n",
    "num1 = num2\n",
    "num2 = temp\n",
    "print(\"The numbers are:num1=\", num1, \"Num2 = \", num2 )"
   ]
  },
  {
   "cell_type": "code",
   "execution_count": null,
   "id": "1f198ced",
   "metadata": {},
   "outputs": [],
   "source": []
  }
 ],
 "metadata": {
  "kernelspec": {
   "display_name": "Python 3 (ipykernel)",
   "language": "python",
   "name": "python3"
  },
  "language_info": {
   "codemirror_mode": {
    "name": "ipython",
    "version": 3
   },
   "file_extension": ".py",
   "mimetype": "text/x-python",
   "name": "python",
   "nbconvert_exporter": "python",
   "pygments_lexer": "ipython3",
   "version": "3.11.4"
  }
 },
 "nbformat": 4,
 "nbformat_minor": 5
}
